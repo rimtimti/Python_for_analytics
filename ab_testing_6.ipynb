{
 "cells": [
  {
   "cell_type": "code",
   "execution_count": 56,
   "metadata": {},
   "outputs": [],
   "source": [
    "from statsmodels.stats.power import tt_ind_solve_power, zt_ind_solve_power\n",
    "from statsmodels.stats.proportion import proportion_effectsize\n",
    "from statsmodels.stats.meta_analysis import effectsize_smd\n",
    "from typing import Union\n",
    "import plotly.graph_objects as go\n",
    "from scipy import stats\n",
    "from math import asin\n",
    "import numpy as np"
   ]
  },
  {
   "cell_type": "code",
   "execution_count": 57,
   "metadata": {},
   "outputs": [],
   "source": [
    "def calc_proportion_es(prob1: float, prob2: float):\n",
    "\n",
    "    return abs(proportion_effectsize(prob1, prob2))\n",
    "\n",
    "\n",
    "# def calc_proportion_es_alt(conv1: float, conv2: float, prob1: float, prob2: float):\n",
    "\n",
    "#     return 2 * asin(np.sqrt(conv1/nobs1)) - 2 * asin(np.sqrt(conv2/nobs2))\n",
    "\n",
    "\n",
    "def calc_proportion_es_alt(conv1: float, conv2: float, prob1: float, prob2: float):\n",
    "\n",
    "    return 2 * asin(np.sqrt(conv1/prob1)) - 2 * asin(np.sqrt(conv2/prob2))\n",
    "\n",
    "\n",
    "def calc_continuous_es(mean_control: Union[float, int],\n",
    "                       std_control: Union[float, int],\n",
    "                       mean_test: Union[float, int],\n",
    "                       std_test: Union[float, int]):\n",
    "\n",
    "    return abs(effectsize_smd(mean_control,\n",
    "                              std_control,\n",
    "                              1e4,\n",
    "                              mean_test,\n",
    "                              std_test,\n",
    "                              1e4)[0])\n",
    "\n",
    "\n",
    "def calc_continuous_es_alt(mean_control: Union[float, int],\n",
    "                           std_control: Union[float, int],\n",
    "                           mean_test: Union[float, int],\n",
    "                           std_test: Union[float, int]):\n",
    "\n",
    "    effect_size = (mean_test - mean_control) / \\\n",
    "        ((std_control**2 + std_test**2) / 2) ** 0.5\n",
    "    return effect_size\n",
    "\n",
    "\n",
    "def calc_sample_size_continuous(effect_size: float,\n",
    "                                alpha: float = .05,\n",
    "                                beta: float = .2,\n",
    "                                ratio: Union[float, int] = 1):\n",
    "\n",
    "    n = tt_ind_solve_power(effect_size=effect_size,\n",
    "                           alpha=alpha,\n",
    "                           power=(1 - beta),\n",
    "                           ratio=ratio,\n",
    "                           )\n",
    "    return int(n * 2)\n",
    "\n",
    "\n",
    "def calc_sample_size_proportion(effect_size: float,\n",
    "                                alpha: float = .05,\n",
    "                                beta: float = .2,\n",
    "                                ratio: Union[float, int] = 1):\n",
    "\n",
    "    n = zt_ind_solve_power(effect_size=effect_size,\n",
    "                           alpha=alpha,\n",
    "                           power=(1 - beta),\n",
    "                           ratio=ratio,\n",
    "                           )\n",
    "    return int(n * 2)\n"
   ]
  },
  {
   "attachments": {},
   "cell_type": "markdown",
   "metadata": {},
   "source": [
    "### Задача 1.\n",
    "\n",
    "Продакт на главной mail.ru решил протестировать в рекомендательной ленте контента вместо карточек со статьями видеоплеер с короткими видео.\n",
    "\n",
    "Нынешний таймспент на юзера в день в среднем равен 25 минут, а стандартная ошибка (SD) равна 156.\n",
    "\n",
    "Мы предполагаем, что в новой версии таймспент на юзера в день изменится на 10%. Средний трафик 20000 человек в день.\n",
    "\n",
    "Посчитайте сколько дней необходимо держать эксперимент при alpha = 5% и beta = 20% ."
   ]
  },
  {
   "cell_type": "code",
   "execution_count": 58,
   "metadata": {},
   "outputs": [],
   "source": [
    "time_spend_control, time_spend_test = 25, 27.5\n",
    "std_control, std_test = 156, 156 * 1.15\n",
    "DAU = 20000"
   ]
  },
  {
   "cell_type": "code",
   "execution_count": 59,
   "metadata": {},
   "outputs": [
    {
     "data": {
      "text/plain": [
       "(0.014870865944557932, 141971, 7.09855)"
      ]
     },
     "execution_count": 59,
     "metadata": {},
     "output_type": "execute_result"
    }
   ],
   "source": [
    "es_cont = calc_continuous_es(time_spend_control, std_control, time_spend_test, std_test)\n",
    "res = calc_sample_size_continuous(es_cont) / DAU\n",
    "\n",
    "es_cont, calc_sample_size_continuous(es_cont), res"
   ]
  },
  {
   "cell_type": "code",
   "execution_count": 60,
   "metadata": {},
   "outputs": [
    {
     "data": {
      "text/plain": [
       "(0.014871423685692022, 141960, 7.098)"
      ]
     },
     "execution_count": 60,
     "metadata": {},
     "output_type": "execute_result"
    }
   ],
   "source": [
    "es_cont_alt = calc_continuous_es_alt(time_spend_control, std_control, time_spend_test, std_test)\n",
    "res = calc_sample_size_continuous(es_cont_alt) / DAU\n",
    "\n",
    "es_cont_alt, calc_sample_size_continuous(es_cont_alt), res"
   ]
  },
  {
   "attachments": {},
   "cell_type": "markdown",
   "metadata": {},
   "source": [
    "Вывод: длительность теста должна быть 7 дней"
   ]
  },
  {
   "attachments": {},
   "cell_type": "markdown",
   "metadata": {},
   "source": [
    "### Задача 2.\n",
    "\n",
    "Наша продуктовая команда в ecommerce магазине планирует запустить тест, направленный на ускорение загрузки сайта.\n",
    "\n",
    "Одна из основных метрик bounce rate в GA = 40%. Мы предполагаем, что при оптимизации сайта она изменится минимум на 20%.\n",
    "\n",
    "Средний трафик 4000 человек в день. Посчитайте сколько нам нужно дней держать эксперимент при alpha = 5% и beta = 20%"
   ]
  },
  {
   "cell_type": "code",
   "execution_count": 62,
   "metadata": {},
   "outputs": [],
   "source": [
    "brGA_1, brGA_2 = 0.40, 0.32\n",
    "DAU = 4000"
   ]
  },
  {
   "cell_type": "code",
   "execution_count": 63,
   "metadata": {},
   "outputs": [
    {
     "data": {
      "text/plain": [
       "(0.16690997264630925, 1126, 0.2815)"
      ]
     },
     "execution_count": 63,
     "metadata": {},
     "output_type": "execute_result"
    }
   ],
   "source": [
    "es_prop = calc_proportion_es(brGA_1, brGA_2)\n",
    "calc_sample_size_proportion(es_prop)\n",
    "res = calc_sample_size_proportion(es_prop) / DAU\n",
    "\n",
    "es_prop, calc_sample_size_proportion(es_prop), res"
   ]
  },
  {
   "cell_type": "code",
   "execution_count": 67,
   "metadata": {},
   "outputs": [
    {
     "data": {
      "text/plain": [
       "(0.16690997264630925, 1126, 0.2815)"
      ]
     },
     "execution_count": 67,
     "metadata": {},
     "output_type": "execute_result"
    }
   ],
   "source": [
    "es_prop_alt = calc_proportion_es_alt(brGA_1, brGA_2, 1, 1)\n",
    "calc_sample_size_proportion(es_prop_alt)\n",
    "res = calc_sample_size_proportion(es_prop_alt) / DAU\n",
    "\n",
    "es_prop, calc_sample_size_proportion(es_prop_alt), res"
   ]
  },
  {
   "attachments": {},
   "cell_type": "markdown",
   "metadata": {},
   "source": [
    "Вывод: длительность теста должна быть не менне 0.28 дня (или 6 часов 45 минут 22 сек =)))))"
   ]
  }
 ],
 "metadata": {
  "kernelspec": {
   "display_name": "Python 3",
   "language": "python",
   "name": "python3"
  },
  "language_info": {
   "codemirror_mode": {
    "name": "ipython",
    "version": 3
   },
   "file_extension": ".py",
   "mimetype": "text/x-python",
   "name": "python",
   "nbconvert_exporter": "python",
   "pygments_lexer": "ipython3",
   "version": "3.10.6"
  },
  "orig_nbformat": 4,
  "vscode": {
   "interpreter": {
    "hash": "2df6d55155fe4716b8a5980cab2bb2431cb3c0651d5d53053ee5f2cd80021afe"
   }
  }
 },
 "nbformat": 4,
 "nbformat_minor": 2
}
