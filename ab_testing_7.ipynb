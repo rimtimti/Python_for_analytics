{
 "cells": [
  {
   "cell_type": "code",
   "execution_count": 47,
   "metadata": {},
   "outputs": [],
   "source": [
    "# импорт необходимых библиотек\n",
    "import numpy as np\n",
    "import plotly.graph_objects as go\n",
    "from plotly.subplots import make_subplots\n",
    "from tqdm import tqdm\n",
    "\n",
    "import scipy.stats as st\n",
    "from statsmodels.stats.power import tt_ind_solve_power\n",
    "from statsmodels.stats.power import zt_ind_solve_power\n",
    "from statsmodels.stats.proportion import proportion_effectsize\n",
    "from statsmodels.stats import proportion\n",
    "from statsmodels.stats.meta_analysis import effectsize_smd\n",
    "\n",
    "# импорт необходимых библиотек\n",
    "from statsmodels.stats.power import tt_ind_solve_power, zt_ind_solve_power\n",
    "from statsmodels.stats.proportion import proportion_effectsize\n",
    "from statsmodels.stats.meta_analysis import effectsize_smd\n",
    "from typing import Union\n",
    "import plotly.graph_objects as go\n",
    "from scipy import stats\n",
    "from math import asin\n",
    "import numpy as np"
   ]
  },
  {
   "cell_type": "code",
   "execution_count": 48,
   "metadata": {},
   "outputs": [],
   "source": [
    "def calc_proportion_es(prob1: float, prob2: float):\n",
    "    \n",
    "    return abs(proportion_effectsize(prob1, prob2))\n",
    "\n",
    "def calc_proportion_es_alt(conv1: float, conv2: float, prob1: float, prob2: float):\n",
    "\n",
    "    return 2 * asin(np.sqrt(conv1/prob1)) - 2 * asin(np.sqrt(conv2/prob2))\n",
    "\n",
    "def calc_continuous_es(mean_control: Union[float, int],\n",
    "                       std_control: Union[float, int],\n",
    "                       mean_test: Union[float, int],\n",
    "                       std_test: Union[float, int]):\n",
    "    \n",
    "    return abs(effectsize_smd(mean_control,\n",
    "                              std_control,\n",
    "                              1e4,\n",
    "                              mean_test,\n",
    "                              std_test,\n",
    "                              1e4)[0])\n",
    "\n",
    "def calc_continuous_es_alt(mean_control: Union[float, int],\n",
    "                           std_control: Union[float, int],\n",
    "                           mean_test: Union[float, int],\n",
    "                           std_test: Union[float, int]):\n",
    "    \n",
    "    effect_size = (mean_test - mean_control) / ((std_control**2 + std_test**2) / 2) ** 0.5\n",
    "    return effect_size\n",
    "    \n",
    "def calc_sample_size_continuous(effect_size: float,\n",
    "                     alpha: float = .05,\n",
    "                     beta: float = .2,\n",
    "                     ratio: Union[float, int] = 1):\n",
    "    \n",
    "    n = tt_ind_solve_power(effect_size=effect_size,\n",
    "                           alpha=alpha,\n",
    "                           power=(1 - beta),\n",
    "                           ratio=ratio,\n",
    "                  )\n",
    "    return int(n * 2)\n",
    "\n",
    "def calc_sample_size_proportion(effect_size: float,\n",
    "                     alpha: float = .05,\n",
    "                     beta: float = .2,\n",
    "                     ratio: Union[float, int] = 1):\n",
    "    \n",
    "    n = zt_ind_solve_power(effect_size=effect_size,\n",
    "                           alpha=alpha,\n",
    "                           power=(1 - beta),\n",
    "                           ratio=ratio,\n",
    "                  )\n",
    "    return int(n * 2)"
   ]
  },
  {
   "attachments": {},
   "cell_type": "markdown",
   "metadata": {},
   "source": [
    "Если на стартовой странице ozon.ru сделать выделение цветом кнопки Мобильное приложение,\n",
    "\n",
    "то это увеличит % переходов на приложение, что позволит нам лучше собирать с него данные.\n",
    "\n",
    "Для пользователя станет удобнее искать товары с телефона. Это может увеличить %конверсий в покупку."
   ]
  },
  {
   "attachments": {},
   "cell_type": "markdown",
   "metadata": {},
   "source": [
    "Что делаем\n",
    "\n",
    "Контрольная версия: оставляем текущий вид страницы.\n",
    "\n",
    "Тестовая версия: выделение цветом кнопки «Мобильное приложение».\n",
    "\n",
    "На каких пользователях тестируем: на всех пользователях.\n",
    "\n",
    "Метрики:\n",
    "\n",
    "Число кликов по кнопке «Мобильное приложение» (ожидается рост на Х шт).\n",
    "\n",
    "Число скачанных приложений (ожидается рост на Y шт).\n",
    "\n",
    "Primary = Число вошедших через приложение (ожидается рост на Z шт).\n",
    "\n",
    "Secondary  = % конверсий в покупку (ожидается рост на K%%).\n",
    "\n",
    "План действий\n",
    "\n",
    "Если наш эксперимент будет положительным, и мы зафиксируем ожидаемое улучшение в ключевых метриках и не посадим добавочные,\n",
    "\n",
    "то масштабируем изменение и «выкатываем» его на всех пользователей.\n",
    "\n",
    "Если основные метрики падают или растут недостаточно либо добавочные метрики падают, откатываем эксперимент.\n",
    "\n",
    "В процессе проведения эксперимента может поджидать большое число нюансов. Важно понимать эти нюансы, а также способы минимизации негативного эффекта от них. \n"
   ]
  },
  {
   "attachments": {},
   "cell_type": "markdown",
   "metadata": {},
   "source": [
    "Предположим, что % переходов на приложение увеличиться на 10%.\n",
    "\n",
    "При этои увеличится %конверсий в покупку на 5%.\n",
    "\n",
    "Средний трафик человек в день 7500.\n",
    "\n",
    "Посчитайте сколько нам нужно дней держать эксперимент при alpha = 5% и beta = 20%"
   ]
  },
  {
   "cell_type": "code",
   "execution_count": 49,
   "metadata": {},
   "outputs": [],
   "source": [
    "CR_1, CR_2 = 0.10, 0.105\n",
    "DAU = 7500"
   ]
  },
  {
   "cell_type": "code",
   "execution_count": 50,
   "metadata": {},
   "outputs": [
    {
     "data": {
      "text/plain": [
       "(0.016486220594214007, 115511, 15.401466666666666)"
      ]
     },
     "execution_count": 50,
     "metadata": {},
     "output_type": "execute_result"
    }
   ],
   "source": [
    "es_prop = calc_proportion_es(CR_1, CR_2)\n",
    "calc_sample_size_proportion(es_prop)\n",
    "res = calc_sample_size_proportion(es_prop) / DAU\n",
    "\n",
    "es_prop, calc_sample_size_proportion(es_prop), res"
   ]
  },
  {
   "cell_type": "code",
   "execution_count": 51,
   "metadata": {},
   "outputs": [
    {
     "data": {
      "text/plain": [
       "(0.016486220594214007, 115511, 15.401466666666666)"
      ]
     },
     "execution_count": 51,
     "metadata": {},
     "output_type": "execute_result"
    }
   ],
   "source": [
    "es_prop_alt = calc_proportion_es_alt(CR_1, CR_2, 1, 1)\n",
    "calc_sample_size_proportion(es_prop_alt)\n",
    "res = calc_sample_size_proportion(es_prop_alt) / DAU\n",
    "\n",
    "es_prop, calc_sample_size_proportion(es_prop_alt), res"
   ]
  },
  {
   "attachments": {},
   "cell_type": "markdown",
   "metadata": {},
   "source": [
    "Вывод: длительность АВ-теста должна быть 16 дней."
   ]
  }
 ],
 "metadata": {
  "kernelspec": {
   "display_name": "Python 3",
   "language": "python",
   "name": "python3"
  },
  "language_info": {
   "codemirror_mode": {
    "name": "ipython",
    "version": 3
   },
   "file_extension": ".py",
   "mimetype": "text/x-python",
   "name": "python",
   "nbconvert_exporter": "python",
   "pygments_lexer": "ipython3",
   "version": "3.10.6"
  },
  "orig_nbformat": 4,
  "vscode": {
   "interpreter": {
    "hash": "2df6d55155fe4716b8a5980cab2bb2431cb3c0651d5d53053ee5f2cd80021afe"
   }
  }
 },
 "nbformat": 4,
 "nbformat_minor": 2
}
