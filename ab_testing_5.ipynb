{
 "cells": [
  {
   "attachments": {},
   "cell_type": "markdown",
   "metadata": {},
   "source": [
    "### Задача 1.\n",
    "\n",
    "Вы провели эксперимент c упрощением формы заказа в магазине Утконос и получили результаты по метрике конверсий в покупку.\n",
    "\n",
    "Выберите метод оценки и оцените есть ли стат.значимые различия между конверсиями в двух группах при alpha = 5%.\n",
    "\n",
    "Дайте краткие рекомендации команде.\n",
    "\n",
    "Результаты:\n",
    "\n",
    "1. Число юзеров в группах , которые заходили на сайт в период эксперимента: n1 = 15550 и n2 = 15550 .\n",
    "\n",
    "2. Число юзеров в группах , которые совершили хотя бы одну покупку за период эксперимента: n1 = 164 и n2 = 228\n",
    "\n",
    "3. Конверсии : conv1 = 1.05% conv2 = 1.47% ."
   ]
  },
  {
   "cell_type": "code",
   "execution_count": 57,
   "metadata": {},
   "outputs": [],
   "source": [
    "from scipy import stats\n",
    "import numpy as np"
   ]
  },
  {
   "cell_type": "code",
   "execution_count": 58,
   "metadata": {},
   "outputs": [],
   "source": [
    "sample_1_converted, sample_2_converted = 164, 228\n",
    "sample_1_size, sample_2_size = 15500, 15500\n",
    "prob_1 = sample_1_converted / sample_1_size\n",
    "prob_2 = sample_2_converted / sample_2_size"
   ]
  },
  {
   "cell_type": "code",
   "execution_count": 59,
   "metadata": {},
   "outputs": [
    {
     "name": "stdout",
     "output_type": "stream",
     "text": [
      "Difference between samples: -0.004129032258064515, standart error: 0.0012690356490794444, p_value: 0.0011392168150319735\n",
      "Sample # 2 mean is greater\n"
     ]
    }
   ],
   "source": [
    "se = np.sqrt((prob_1 * (1 - prob_1) / sample_1_size) + (prob_2 * (1 - prob_2) / sample_2_size))\n",
    "z_score = (prob_1 - prob_2) / se\n",
    "pvalue = stats.norm.sf(abs(z_score)) * 2\n",
    "\n",
    "md = prob_1 - prob_2\n",
    "\n",
    "print(f\"Difference between samples: {md}, standart error: {se}, p_value: {pvalue}\")\n",
    "\n",
    "if pvalue < .05:\n",
    "    print(f\"Sample # {1 if md > 0 else 2} mean is greater\")\n",
    "else:\n",
    "    print(\"No significant difference\")"
   ]
  },
  {
   "cell_type": "code",
   "execution_count": 60,
   "metadata": {},
   "outputs": [
    {
     "data": {
      "text/plain": [
       "(-0.006616342130260227, -0.0016417223858688043)"
      ]
     },
     "execution_count": 60,
     "metadata": {},
     "output_type": "execute_result"
    }
   ],
   "source": [
    "left = md - 1.96 * se\n",
    "right = md + 1.96 * se\n",
    "\n",
    "left, right"
   ]
  },
  {
   "attachments": {},
   "cell_type": "markdown",
   "metadata": {},
   "source": [
    "Вывод: есть статистически значимая разница между группами, упрощение формы заказа позитивно сказывается на конверсии."
   ]
  },
  {
   "attachments": {},
   "cell_type": "markdown",
   "metadata": {},
   "source": [
    "### Задача 2.\n",
    "\n",
    "Сравниваем метрику конверсия в покупку. Размер выборки - 10000 элементов в каждой группе . Какой статистический критерий тут лучше всего подойдёт и почему ?"
   ]
  },
  {
   "attachments": {},
   "cell_type": "markdown",
   "metadata": {},
   "source": [
    "Лучше всего подойдет z-критерий. Он подходит для больших выборок."
   ]
  }
 ],
 "metadata": {
  "kernelspec": {
   "display_name": "Python 3",
   "language": "python",
   "name": "python3"
  },
  "language_info": {
   "codemirror_mode": {
    "name": "ipython",
    "version": 3
   },
   "file_extension": ".py",
   "mimetype": "text/x-python",
   "name": "python",
   "nbconvert_exporter": "python",
   "pygments_lexer": "ipython3",
   "version": "3.10.6"
  },
  "orig_nbformat": 4
 },
 "nbformat": 4,
 "nbformat_minor": 2
}
