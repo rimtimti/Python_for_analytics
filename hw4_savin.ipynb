{
 "cells": [],
 "metadata": {
  "kernelspec": {
   "display_name": "Python 3",
   "language": "python",
   "name": "python3"
  },
  "language_info": {
   "codemirror_mode": {
    "name": "ipython",
    "version": 3
   },
   "file_extension": ".py",
   "mimetype": "text/x-python",
   "name": "python",
   "nbconvert_exporter": "python",
   "pygments_lexer": "ipython3",
   "version": "3.10.6"
  },
  "orig_nbformat": 4,
  "vscode": {
   "interpreter": {
    "hash": "2df6d55155fe4716b8a5980cab2bb2431cb3c0651d5d53053ee5f2cd80021afe"
   }
  }
 },
 "nbformat": 4,
 "nbformat_minor": 2
}
